{
 "cells": [
  {
   "cell_type": "markdown",
   "metadata": {},
   "source": [
    "## Demonstration of generating sentences using the model\n",
    "\n",
    "In this notebook, we will demonstrate generating text.\n",
    "\n",
    "The main takeaway is that the \"meaning\" of the generated sentences gets more and more obtuse with the addition of more and more unrelated texts.\n",
    "\n",
    "Notice how the sentences make decent sense when the model contains ONLY american literature, or ONLY science fiction.  Once we build the model with all the content, we start to make less sense.\n",
    "\n",
    "In any case, this toy system shows the potential and theoretical basics of Markov Chains.\n",
    "\n",
    "***"
   ]
  },
  {
   "cell_type": "code",
   "execution_count": 35,
   "metadata": {},
   "outputs": [
    {
     "name": "stdout",
     "output_type": "stream",
     "text": [
      "./data/science_fiction/war_of_the_worlds.txt\n",
      "./data/science_fiction/youth.txt\n",
      "./data/science_fiction/time_machine.txt\n",
      "./data/science_fiction/second_variety.txt\n",
      "./data/science_fiction/anthem.txt\n",
      "./data/science_fiction/2br02b.txt\n",
      "./data/science_fiction/the_eyes_have_it.txt\n",
      "./data/ww2/closing_in_iwo_jima.txt\n",
      "./data/ww2/day_of_infamy.txt\n",
      "./data/ww2/fireside_chats.txt\n",
      "./data/ww2/rat_race.txt\n",
      "./data/ww2/flying_fortress.txt\n",
      "./data/horror/dr_jekyll_mr_hyde.txt\n",
      "./data/horror/dracula.txt\n",
      "./data/horror/metamorphosis.txt\n",
      "./data/horror/poe_v4.txt\n",
      "./data/horror/poe_v5.txt\n",
      "./data/horror/poe_v2.txt\n",
      "./data/horror/owl_creek_bridge.txt\n",
      "./data/horror/poe_v3.txt\n",
      "./data/horror/poe_v1.txt\n",
      "./data/buddhism/religion_of_samurai.txt\n",
      "./data/buddhism/buddhst_psalms.txt\n",
      "./data/buddhism/life_of_buddha.txt\n",
      "./data/buddhism/essence_of_buddhism.txt\n",
      "./data/buddhism/dhammapada.txt\n",
      "./data/amer_lit/gatsby.txt\n",
      "./data/amer_lit/ethan_frome.txt\n",
      "./data/amer_lit/theron_ware.txt\n",
      "./data/native_american/old_indian_legends.txt\n",
      "./data/native_american/song_of_hiawatha.txt\n",
      "./data/native_american/american_indian_stories.txt\n",
      "./data/native_american/sacred_formulas_cherokees.txt\n",
      "./data/native_american/deerslayer.txt\n",
      "./data/joyce/ulysses.txt\n",
      "./data/joyce/portrait_of_the_artist.txt\n",
      "./data/joyce/dubliners.txt\n"
     ]
    }
   ],
   "source": [
    "from ramona.model import Model\n",
    "import glob\n",
    "\n",
    "print(\"\\n\".join(glob.glob(\"./data/*/*\")))"
   ]
  },
  {
   "cell_type": "code",
   "execution_count": 37,
   "metadata": {},
   "outputs": [
    {
     "name": "stdout",
     "output_type": "stream",
     "text": [
      "Mrs. Wilson enthusiastically . \n",
      "\n",
      "However glorious might be here , Nick , ” said Tom , ” he announced solemnly . \n",
      "\n",
      "Did I tell you . \n",
      "\n",
      "Such a mad act as that man did should make us all back at me without comment that she wore her evening-dress , all her dresses , who were spread around a chain of national circumstances which had just shaved , for he dropped my hand and covered over with truculent eyes . \n",
      "\n",
      "Yes , madame. ” She looked at Gatsby ’ s car , and felt it in any other capacity that brought him food and bed . \n",
      "\n",
      "It was nine o ’ clock , and we sped along toward Astoria at fifty miles an hour . \n",
      "\n",
      "Whenever there was a halt there of at least another minute . \n",
      "\n",
      "Ahead lay the scalloped ocean and the burning match on the canvas in the thick folds . \n",
      "\n",
      "Going fifty , sixty. ” “ Her family. ” “ You ought to have dinner with the faces of “ Yea—ea—ea ! ” I said , even from our pity . \n",
      "\n",
      "Across the courtesy bay , spat meditatively into the night before . \n",
      "\n"
     ]
    }
   ],
   "source": [
    "model = Model()\n",
    "model.add_text(open('./data/amer_lit/gatsby.txt').read())\n",
    "model.recalculate()\n",
    "for i in range(0,10):\n",
    "    print(' '.join(model.generate()))"
   ]
  },
  {
   "cell_type": "markdown",
   "metadata": {},
   "source": [
    "***\n",
    "Let's more American Literature and then generate some new sentences.\n",
    "***"
   ]
  },
  {
   "cell_type": "code",
   "execution_count": 38,
   "metadata": {},
   "outputs": [
    {
     "name": "stdout",
     "output_type": "stream",
     "text": [
      "Suppose Tom found out his weak spot like a baby act in costume , and then , Soulsby ? \n",
      "\n",
      "Fact is , ” tunelessly , inside . \n",
      "\n",
      "Twice or thrice through her own movements between hotels and clubs and private houses made her feel too sharp a contrast between the vitality of his beach . \n",
      "\n",
      "My house looks well , ” said Alice , and both wives were sympathizing with each other right away. ” Michaelis opened the door . ” \n",
      "\n",
      "Aziel P. Larrabee , who was carrying me to be my best to ruin us . \n",
      "\n",
      "Strangely enough , ” I hadn ’ t move , and for a moment longer than drink , and Ethan felt that it was only the baldest and curtest forms of houses and chimneys and rising smoke and , though I had him for his , and hardened his resolution . \n",
      "\n",
      "St. Mary 's and Hughey 's and he would never know what it was all right somehow . \n",
      "\n",
      "Instead of her own party , encamped about the heterodox tone of a type , she reached over for another mile or two . \n",
      "\n",
      "Carraway , ” he faltered out , and that is how you got her dress gleamed in the room was almost as much of , but so vehemently that the room , a death-warrant . \n",
      "\n",
      "Or no , -- bought because you lost the extension-leaf to our table in many-coloured disarray . \n",
      "\n"
     ]
    }
   ],
   "source": [
    "model.add_text(open('./data/amer_lit/ethan_frome.txt').read())\n",
    "model.add_text(open('./data/amer_lit/theron_ware.txt').read())\n",
    "model.recalculate()\n",
    "for i in range(0,10):\n",
    "    print(' '.join(model.generate()))"
   ]
  },
  {
   "cell_type": "code",
   "execution_count": 39,
   "metadata": {},
   "outputs": [
    {
     "name": "stdout",
     "output_type": "stream",
     "text": [
      "Too black . \n",
      "\n",
      "You probably wo n't hurt you , was a weak point in his Sunday raiment , lemon-yellow gloves even , it 's practically the main expanse of livid colour cut with purple shadows , in shape something like a winged sphinx , as it was quite incapable of discussion ; this is what is good . '' \n",
      "\n",
      "This was part of a yard or more from Liverpool Street station ; but , from the bunker . '' \n",
      "\n",
      "Once or twice I heard the whirr of a prison . \n",
      "\n",
      "Doubtless they had survived . \n",
      "\n",
      "said the artilleryman , and the pain struck us , for it and directing a jet of superheated steam that hissed against the last night the expectation took the reins from her , she slept with her out of a few score yards I would go upstairs myself for an accident prevented trains from reaching Woking that night I heard the whirr of a dead city of the civilising process that makes the needle move and they were simple beings , the pressure of the commonplace habits of thought and action , across the lawn of the villas . \n",
      "\n",
      "Very soon I had been devoted to minerals , and making use of coal to examine . \n",
      "\n",
      "Carefully , he had seen above ground was level and bare of all men ; and we thought that another ship would come upon the history of man had no time . '' \n",
      "\n",
      "Human beings stayed a long pause . \n",
      "\n",
      "Lord ! ” very softly ; but the former three dimensions they could see the oily gleam of a heap of charred corpses was disappointed at this . '' \n",
      "\n"
     ]
    }
   ],
   "source": [
    "model.reset()\n",
    "model.add_text(open('./data/science_fiction/war_of_the_worlds.txt').read())\n",
    "model.add_text(open('./data/science_fiction/youth.txt').read())\n",
    "model.add_text(open('./data/science_fiction/time_machine.txt').read())\n",
    "model.add_text(open('./data/science_fiction/second_variety.txt').read())\n",
    "model.add_text(open('./data/science_fiction/anthem.txt').read())\n",
    "model.add_text(open('./data/science_fiction/2br02b.txt').read())\n",
    "model.add_text(open('./data/science_fiction/the_eyes_have_it.txt').read())\n",
    "model.recalculate()\n",
    "for i in range(0,10):\n",
    "    print(' '.join(model.generate()))"
   ]
  },
  {
   "cell_type": "code",
   "execution_count": 40,
   "metadata": {},
   "outputs": [
    {
     "name": "stdout",
     "output_type": "stream",
     "text": [
      "./data/science_fiction/war_of_the_worlds.txt\n",
      "./data/science_fiction/youth.txt\n",
      "./data/science_fiction/time_machine.txt\n",
      "./data/science_fiction/second_variety.txt\n",
      "./data/science_fiction/anthem.txt\n",
      "./data/science_fiction/2br02b.txt\n",
      "./data/science_fiction/the_eyes_have_it.txt\n",
      "./data/ww2/closing_in_iwo_jima.txt\n",
      "./data/ww2/day_of_infamy.txt\n",
      "./data/ww2/fireside_chats.txt\n",
      "./data/ww2/rat_race.txt\n",
      "./data/ww2/flying_fortress.txt\n",
      "./data/horror/dr_jekyll_mr_hyde.txt\n",
      "./data/horror/dracula.txt\n",
      "./data/horror/metamorphosis.txt\n",
      "./data/horror/poe_v4.txt\n",
      "./data/horror/poe_v5.txt\n",
      "./data/horror/poe_v2.txt\n",
      "./data/horror/owl_creek_bridge.txt\n",
      "./data/horror/poe_v3.txt\n",
      "./data/horror/poe_v1.txt\n",
      "./data/buddhism/religion_of_samurai.txt\n",
      "./data/buddhism/buddhst_psalms.txt\n",
      "./data/buddhism/life_of_buddha.txt\n",
      "./data/buddhism/essence_of_buddhism.txt\n",
      "./data/buddhism/dhammapada.txt\n",
      "./data/amer_lit/gatsby.txt\n",
      "./data/amer_lit/ethan_frome.txt\n",
      "./data/amer_lit/theron_ware.txt\n",
      "./data/native_american/old_indian_legends.txt\n",
      "./data/native_american/song_of_hiawatha.txt\n",
      "./data/native_american/american_indian_stories.txt\n",
      "./data/native_american/sacred_formulas_cherokees.txt\n",
      "./data/native_american/deerslayer.txt\n",
      "./data/joyce/ulysses.txt\n",
      "./data/joyce/portrait_of_the_artist.txt\n",
      "./data/joyce/dubliners.txt\n",
      "Kino ’ s . \n",
      "\n",
      "Bubbly jock ! \n",
      "\n",
      "HIA´ DU´NIYUKWATISGÛ´ [ n ] tû´l ‘ taniga . \n",
      "\n",
      "_—You pray to God through the wooded mountains . '' -- I began . \n",
      "\n",
      "Epstein reached into his seat , crossed the mighty of old instruments . \n",
      "\n",
      "Enormous quantities of high strategical importance . \n",
      "\n",
      "Yogibogeybox in Dawson chambers . \n",
      "\n",
      "his sister managed to lay aside her mat , scraping the air . '' ) \n",
      "\n",
      "Safer to eat molecules with a few rounds of the olivepress . \n",
      "\n",
      "Hindsight shows us that something wrong with him_ ? \n",
      "\n"
     ]
    }
   ],
   "source": [
    "model.reset()\n",
    "for f in glob.glob(\"./data/*/*\"):\n",
    "    print(f)\n",
    "    model.add_text(open(f).read())\n",
    "model.recalculate()\n",
    "for i in range(0,10):\n",
    "    print(' '.join(model.generate()))"
   ]
  },
  {
   "cell_type": "code",
   "execution_count": null,
   "metadata": {},
   "outputs": [],
   "source": []
  }
 ],
 "metadata": {
  "kernelspec": {
   "display_name": "Python 3",
   "language": "python",
   "name": "python3"
  },
  "language_info": {
   "codemirror_mode": {
    "name": "ipython",
    "version": 3
   },
   "file_extension": ".py",
   "mimetype": "text/x-python",
   "name": "python",
   "nbconvert_exporter": "python",
   "pygments_lexer": "ipython3",
   "version": "3.7.3"
  },
  "pycharm": {
   "stem_cell": {
    "cell_type": "raw",
    "metadata": {
     "collapsed": false
    },
    "source": []
   }
  }
 },
 "nbformat": 4,
 "nbformat_minor": 1
}
